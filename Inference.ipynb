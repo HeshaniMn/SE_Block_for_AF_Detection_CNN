{
  "metadata": {
    "kernelspec": {
      "display_name": "Python 3",
      "name": "python3"
    },
    "language_info": {
      "name": "python",
      "version": "3.11.13",
      "mimetype": "text/x-python",
      "codemirror_mode": {
        "name": "ipython",
        "version": 3
      },
      "pygments_lexer": "ipython3",
      "nbconvert_exporter": "python",
      "file_extension": ".py"
    },
    "kaggle": {
      "accelerator": "none",
      "dataSources": [
        {
          "sourceId": 12590198,
          "sourceType": "datasetVersion",
          "datasetId": 7951800
        },
        {
          "sourceId": 12596490,
          "sourceType": "datasetVersion",
          "datasetId": 7956022
        },
        {
          "sourceId": 12604554,
          "sourceType": "datasetVersion",
          "datasetId": 7961585
        }
      ],
      "dockerImageVersionId": 31089,
      "isInternetEnabled": true,
      "language": "python",
      "sourceType": "notebook",
      "isGpuEnabled": false
    },
    "colab": {
      "provenance": [],
      "machine_shape": "hm",
      "gpuType": "T4"
    },
    "accelerator": "GPU"
  },
  "nbformat_minor": 0,
  "nbformat": 4,
  "cells": [
    {
      "cell_type": "code",
      "source": [
        "!pip install wfdb"
      ],
      "metadata": {
        "trusted": true,
        "execution": {
          "iopub.status.busy": "2025-07-28T22:55:52.363333Z",
          "iopub.execute_input": "2025-07-28T22:55:52.363629Z",
          "iopub.status.idle": "2025-07-28T22:55:57.699248Z",
          "shell.execute_reply.started": "2025-07-28T22:55:52.363606Z",
          "shell.execute_reply": "2025-07-28T22:55:57.698149Z"
        },
        "id": "aqkDJz01dU6H",
        "outputId": "742ef5b7-eb92-4c8e-fbe5-799515910021",
        "colab": {
          "base_uri": "https://localhost:8080/"
        }
      },
      "outputs": [
        {
          "output_type": "stream",
          "name": "stdout",
          "text": [
            "Collecting wfdb\n",
            "  Downloading wfdb-4.3.0-py3-none-any.whl.metadata (3.8 kB)\n",
            "Requirement already satisfied: aiohttp>=3.10.11 in /usr/local/lib/python3.11/dist-packages (from wfdb) (3.12.14)\n",
            "Requirement already satisfied: fsspec>=2023.10.0 in /usr/local/lib/python3.11/dist-packages (from wfdb) (2025.3.0)\n",
            "Requirement already satisfied: matplotlib>=3.2.2 in /usr/local/lib/python3.11/dist-packages (from wfdb) (3.10.0)\n",
            "Requirement already satisfied: numpy>=1.26.4 in /usr/local/lib/python3.11/dist-packages (from wfdb) (2.0.2)\n",
            "Collecting pandas>=2.2.3 (from wfdb)\n",
            "  Downloading pandas-2.3.1-cp311-cp311-manylinux_2_17_x86_64.manylinux2014_x86_64.whl.metadata (91 kB)\n",
            "\u001b[2K     \u001b[90m━━━━━━━━━━━━━━━━━━━━━━━━━━━━━━━━━━━━━━━━\u001b[0m \u001b[32m91.2/91.2 kB\u001b[0m \u001b[31m1.2 MB/s\u001b[0m eta \u001b[36m0:00:00\u001b[0m\n",
            "\u001b[?25hRequirement already satisfied: requests>=2.8.1 in /usr/local/lib/python3.11/dist-packages (from wfdb) (2.32.3)\n",
            "Requirement already satisfied: scipy>=1.13.0 in /usr/local/lib/python3.11/dist-packages (from wfdb) (1.16.0)\n",
            "Requirement already satisfied: soundfile>=0.10.0 in /usr/local/lib/python3.11/dist-packages (from wfdb) (0.13.1)\n",
            "Requirement already satisfied: aiohappyeyeballs>=2.5.0 in /usr/local/lib/python3.11/dist-packages (from aiohttp>=3.10.11->wfdb) (2.6.1)\n",
            "Requirement already satisfied: aiosignal>=1.4.0 in /usr/local/lib/python3.11/dist-packages (from aiohttp>=3.10.11->wfdb) (1.4.0)\n",
            "Requirement already satisfied: attrs>=17.3.0 in /usr/local/lib/python3.11/dist-packages (from aiohttp>=3.10.11->wfdb) (25.3.0)\n",
            "Requirement already satisfied: frozenlist>=1.1.1 in /usr/local/lib/python3.11/dist-packages (from aiohttp>=3.10.11->wfdb) (1.7.0)\n",
            "Requirement already satisfied: multidict<7.0,>=4.5 in /usr/local/lib/python3.11/dist-packages (from aiohttp>=3.10.11->wfdb) (6.6.3)\n",
            "Requirement already satisfied: propcache>=0.2.0 in /usr/local/lib/python3.11/dist-packages (from aiohttp>=3.10.11->wfdb) (0.3.2)\n",
            "Requirement already satisfied: yarl<2.0,>=1.17.0 in /usr/local/lib/python3.11/dist-packages (from aiohttp>=3.10.11->wfdb) (1.20.1)\n",
            "Requirement already satisfied: contourpy>=1.0.1 in /usr/local/lib/python3.11/dist-packages (from matplotlib>=3.2.2->wfdb) (1.3.2)\n",
            "Requirement already satisfied: cycler>=0.10 in /usr/local/lib/python3.11/dist-packages (from matplotlib>=3.2.2->wfdb) (0.12.1)\n",
            "Requirement already satisfied: fonttools>=4.22.0 in /usr/local/lib/python3.11/dist-packages (from matplotlib>=3.2.2->wfdb) (4.59.0)\n",
            "Requirement already satisfied: kiwisolver>=1.3.1 in /usr/local/lib/python3.11/dist-packages (from matplotlib>=3.2.2->wfdb) (1.4.8)\n",
            "Requirement already satisfied: packaging>=20.0 in /usr/local/lib/python3.11/dist-packages (from matplotlib>=3.2.2->wfdb) (25.0)\n",
            "Requirement already satisfied: pillow>=8 in /usr/local/lib/python3.11/dist-packages (from matplotlib>=3.2.2->wfdb) (11.3.0)\n",
            "Requirement already satisfied: pyparsing>=2.3.1 in /usr/local/lib/python3.11/dist-packages (from matplotlib>=3.2.2->wfdb) (3.2.3)\n",
            "Requirement already satisfied: python-dateutil>=2.7 in /usr/local/lib/python3.11/dist-packages (from matplotlib>=3.2.2->wfdb) (2.9.0.post0)\n",
            "Requirement already satisfied: pytz>=2020.1 in /usr/local/lib/python3.11/dist-packages (from pandas>=2.2.3->wfdb) (2025.2)\n",
            "Requirement already satisfied: tzdata>=2022.7 in /usr/local/lib/python3.11/dist-packages (from pandas>=2.2.3->wfdb) (2025.2)\n",
            "Requirement already satisfied: charset-normalizer<4,>=2 in /usr/local/lib/python3.11/dist-packages (from requests>=2.8.1->wfdb) (3.4.2)\n",
            "Requirement already satisfied: idna<4,>=2.5 in /usr/local/lib/python3.11/dist-packages (from requests>=2.8.1->wfdb) (3.10)\n",
            "Requirement already satisfied: urllib3<3,>=1.21.1 in /usr/local/lib/python3.11/dist-packages (from requests>=2.8.1->wfdb) (2.5.0)\n",
            "Requirement already satisfied: certifi>=2017.4.17 in /usr/local/lib/python3.11/dist-packages (from requests>=2.8.1->wfdb) (2025.7.14)\n",
            "Requirement already satisfied: cffi>=1.0 in /usr/local/lib/python3.11/dist-packages (from soundfile>=0.10.0->wfdb) (1.17.1)\n",
            "Requirement already satisfied: typing-extensions>=4.2 in /usr/local/lib/python3.11/dist-packages (from aiosignal>=1.4.0->aiohttp>=3.10.11->wfdb) (4.14.1)\n",
            "Requirement already satisfied: pycparser in /usr/local/lib/python3.11/dist-packages (from cffi>=1.0->soundfile>=0.10.0->wfdb) (2.22)\n",
            "Requirement already satisfied: six>=1.5 in /usr/local/lib/python3.11/dist-packages (from python-dateutil>=2.7->matplotlib>=3.2.2->wfdb) (1.17.0)\n",
            "Downloading wfdb-4.3.0-py3-none-any.whl (163 kB)\n",
            "\u001b[2K   \u001b[90m━━━━━━━━━━━━━━━━━━━━━━━━━━━━━━━━━━━━━━━━\u001b[0m \u001b[32m163.8/163.8 kB\u001b[0m \u001b[31m3.7 MB/s\u001b[0m eta \u001b[36m0:00:00\u001b[0m\n",
            "\u001b[?25hDownloading pandas-2.3.1-cp311-cp311-manylinux_2_17_x86_64.manylinux2014_x86_64.whl (12.4 MB)\n",
            "\u001b[2K   \u001b[90m━━━━━━━━━━━━━━━━━━━━━━━━━━━━━━━━━━━━━━━━\u001b[0m \u001b[32m12.4/12.4 MB\u001b[0m \u001b[31m75.1 MB/s\u001b[0m eta \u001b[36m0:00:00\u001b[0m\n",
            "\u001b[?25hInstalling collected packages: pandas, wfdb\n",
            "  Attempting uninstall: pandas\n",
            "    Found existing installation: pandas 2.2.2\n",
            "    Uninstalling pandas-2.2.2:\n",
            "      Successfully uninstalled pandas-2.2.2\n",
            "\u001b[31mERROR: pip's dependency resolver does not currently take into account all the packages that are installed. This behaviour is the source of the following dependency conflicts.\n",
            "google-colab 1.0.0 requires pandas==2.2.2, but you have pandas 2.3.1 which is incompatible.\n",
            "cudf-cu12 25.6.0 requires pandas<2.2.4dev0,>=2.0, but you have pandas 2.3.1 which is incompatible.\n",
            "dask-cudf-cu12 25.6.0 requires pandas<2.2.4dev0,>=2.0, but you have pandas 2.3.1 which is incompatible.\u001b[0m\u001b[31m\n",
            "\u001b[0mSuccessfully installed pandas-2.3.1 wfdb-4.3.0\n"
          ]
        }
      ],
      "execution_count": 1
    },
    {
      "cell_type": "code",
      "source": [
        "!pip install rtpt"
      ],
      "metadata": {
        "trusted": true,
        "execution": {
          "iopub.status.busy": "2025-07-28T22:55:57.701328Z",
          "iopub.execute_input": "2025-07-28T22:55:57.701676Z",
          "iopub.status.idle": "2025-07-28T22:56:08.022928Z",
          "shell.execute_reply.started": "2025-07-28T22:55:57.701642Z",
          "shell.execute_reply": "2025-07-28T22:56:08.021784Z"
        },
        "id": "a5wMwtLGdU6N",
        "outputId": "844ab856-069c-4e69-abb6-616f8bca97a7",
        "colab": {
          "base_uri": "https://localhost:8080/",
          "height": 672
        }
      },
      "outputs": [
        {
          "output_type": "stream",
          "name": "stdout",
          "text": [
            "Collecting rtpt\n",
            "  Downloading rtpt-0.0.4-py3-none-any.whl.metadata (1.4 kB)\n",
            "Collecting setproctitle (from rtpt)\n",
            "  Downloading setproctitle-1.3.6-cp311-cp311-manylinux_2_5_x86_64.manylinux1_x86_64.manylinux_2_17_x86_64.manylinux2014_x86_64.whl.metadata (10 kB)\n",
            "Collecting gpustat (from rtpt)\n",
            "  Downloading gpustat-1.1.1.tar.gz (98 kB)\n",
            "\u001b[2K     \u001b[90m━━━━━━━━━━━━━━━━━━━━━━━━━━━━━━━━━━━━━━━━\u001b[0m \u001b[32m98.1/98.1 kB\u001b[0m \u001b[31m1.3 MB/s\u001b[0m eta \u001b[36m0:00:00\u001b[0m\n",
            "\u001b[?25h  Installing build dependencies ... \u001b[?25l\u001b[?25hdone\n",
            "  Getting requirements to build wheel ... \u001b[?25l\u001b[?25hdone\n",
            "  Preparing metadata (pyproject.toml) ... \u001b[?25l\u001b[?25hdone\n",
            "Collecting argparse (from rtpt)\n",
            "  Downloading argparse-1.4.0-py2.py3-none-any.whl.metadata (2.8 kB)\n",
            "Requirement already satisfied: nvidia-ml-py>=11.450.129 in /usr/local/lib/python3.11/dist-packages (from gpustat->rtpt) (12.575.51)\n",
            "Requirement already satisfied: psutil>=5.6.0 in /usr/local/lib/python3.11/dist-packages (from gpustat->rtpt) (5.9.5)\n",
            "Collecting blessed>=1.17.1 (from gpustat->rtpt)\n",
            "  Downloading blessed-1.21.0-py2.py3-none-any.whl.metadata (13 kB)\n",
            "Requirement already satisfied: wcwidth>=0.1.4 in /usr/local/lib/python3.11/dist-packages (from blessed>=1.17.1->gpustat->rtpt) (0.2.13)\n",
            "Downloading rtpt-0.0.4-py3-none-any.whl (5.9 kB)\n",
            "Downloading argparse-1.4.0-py2.py3-none-any.whl (23 kB)\n",
            "Downloading setproctitle-1.3.6-cp311-cp311-manylinux_2_5_x86_64.manylinux1_x86_64.manylinux_2_17_x86_64.manylinux2014_x86_64.whl (31 kB)\n",
            "Downloading blessed-1.21.0-py2.py3-none-any.whl (84 kB)\n",
            "\u001b[2K   \u001b[90m━━━━━━━━━━━━━━━━━━━━━━━━━━━━━━━━━━━━━━━━\u001b[0m \u001b[32m84.7/84.7 kB\u001b[0m \u001b[31m5.3 MB/s\u001b[0m eta \u001b[36m0:00:00\u001b[0m\n",
            "\u001b[?25hBuilding wheels for collected packages: gpustat\n",
            "  Building wheel for gpustat (pyproject.toml) ... \u001b[?25l\u001b[?25hdone\n",
            "  Created wheel for gpustat: filename=gpustat-1.1.1-py3-none-any.whl size=26666 sha256=2a439f36a25667b9bf040593e6bb63a1c2ac932a8766f905bb17cf9140f1a9d8\n",
            "  Stored in directory: /root/.cache/pip/wheels/c9/2b/d9/a0b77d6e8623ce6b5c73813af455a3ace394abfc2e8aef7ed6\n",
            "Successfully built gpustat\n",
            "Installing collected packages: argparse, setproctitle, blessed, gpustat, rtpt\n",
            "Successfully installed argparse-1.4.0 blessed-1.21.0 gpustat-1.1.1 rtpt-0.0.4 setproctitle-1.3.6\n"
          ]
        },
        {
          "output_type": "display_data",
          "data": {
            "application/vnd.colab-display-data+json": {
              "pip_warning": {
                "packages": [
                  "argparse"
                ]
              },
              "id": "80a56ca1345844608fea58c60ff9ca8a"
            }
          },
          "metadata": {}
        }
      ],
      "execution_count": 2
    },
    {
      "cell_type": "code",
      "source": [
        "!git clone https://github.com/ChristophReich1996/ECG_Classification.git"
      ],
      "metadata": {
        "trusted": true,
        "execution": {
          "iopub.status.busy": "2025-07-28T22:56:08.024579Z",
          "iopub.execute_input": "2025-07-28T22:56:08.024904Z",
          "iopub.status.idle": "2025-07-28T22:56:27.699471Z",
          "shell.execute_reply.started": "2025-07-28T22:56:08.024868Z",
          "shell.execute_reply": "2025-07-28T22:56:27.698296Z"
        },
        "id": "xy-mrRQ3dU6P",
        "outputId": "e30f722a-4250-4efb-c671-4565450b4777",
        "colab": {
          "base_uri": "https://localhost:8080/"
        }
      },
      "outputs": [
        {
          "output_type": "stream",
          "name": "stdout",
          "text": [
            "Cloning into 'ECG_Classification'...\n",
            "remote: Enumerating objects: 1999, done.\u001b[K\n",
            "remote: Counting objects: 100% (1991/1991), done.\u001b[K\n",
            "remote: Compressing objects: 100% (780/780), done.\u001b[K\n",
            "remote: Total 1999 (delta 1226), reused 1934 (delta 1175), pack-reused 8 (from 1)\u001b[K\n",
            "Receiving objects: 100% (1999/1999), 549.35 MiB | 23.49 MiB/s, done.\n",
            "Resolving deltas: 100% (1226/1226), done.\n",
            "Updating files: 100% (196/196), done.\n"
          ]
        }
      ],
      "execution_count": 1
    },
    {
      "cell_type": "code",
      "source": [
        "%cd ECG_Classification"
      ],
      "metadata": {
        "colab": {
          "base_uri": "https://localhost:8080/"
        },
        "id": "TOuV9KhYC4iB",
        "outputId": "86033888-870b-48e9-e475-acc90a57df7c"
      },
      "execution_count": 2,
      "outputs": [
        {
          "output_type": "stream",
          "name": "stdout",
          "text": [
            "/content/ECG_Classification\n"
          ]
        }
      ]
    },
    {
      "cell_type": "code",
      "source": [
        "import zipfile\n",
        "import os\n",
        "\n",
        "# Path to the uploaded zip file\n",
        "zip_path = \"/content/mit-bih-atrial-fibrillation-database-1.0.0.zip\"\n",
        "\n",
        "# Unzip to a folder named 'data'\n",
        "with zipfile.ZipFile(zip_path, 'r') as zip_ref:\n",
        "    zip_ref.extractall(\"data\")"
      ],
      "metadata": {
        "id": "M5VkJDQNe5RU"
      },
      "execution_count": 4,
      "outputs": []
    },
    {
      "cell_type": "code",
      "source": [
        "import os\n",
        "import wfdb\n",
        "import numpy as np\n",
        "import torch\n",
        "from torch.utils.data import Dataset\n",
        "from scipy.signal import resample\n",
        "import torch.nn.functional as F\n",
        "from torchaudio.transforms import Spectrogram\n",
        "from collections import Counter\n",
        "\n",
        "FS_SRC = 250\n",
        "FS_TGT = 300\n",
        "SEGMENT_SECONDS = 30\n",
        "SAMPLES_PER_SEGMENT = FS_TGT * SEGMENT_SECONDS\n",
        "\n",
        "WINDOW_SIZE = 256\n",
        "STEP_SIZE = 224\n",
        "SPECTROGRAM_LENGTH = 563\n",
        "\n",
        "class AFDBDualInputDataset(Dataset):\n",
        "    def __init__(self, record_names, afdb_path):\n",
        "        self.samples = []\n",
        "        self.spectrogram_module = Spectrogram(n_fft=64, win_length=64, hop_length=32, power=1, normalized=True)\n",
        "\n",
        "        for record in record_names:\n",
        "            record_path = os.path.join(afdb_path, record)\n",
        "            signal, _ = wfdb.rdsamp(record_path)\n",
        "            annotation = wfdb.rdann(record_path, 'atr')\n",
        "\n",
        "            ecg = signal[:, 0]\n",
        "            beats = annotation.sample\n",
        "            aux_notes = [note.strip(\"()\") for note in annotation.aux_note]  # remove parentheses\n",
        "\n",
        "            # Resample ECG\n",
        "            ecg_resampled = resample(ecg, int(len(ecg) * FS_TGT / FS_SRC))\n",
        "            # print(len(ecg))\n",
        "            # print(len(ecg_resampled))\n",
        "\n",
        "            # Resample beat positions\n",
        "            beat_resample_factor = FS_TGT / FS_SRC\n",
        "            beats_resampled = (beats * beat_resample_factor).astype(int)\n",
        "\n",
        "            # print(beats_resampled)\n",
        "            # print(aux_notes)\n",
        "\n",
        "            # Build rhythm mask\n",
        "            af_mask = np.zeros(len(ecg_resampled), dtype=int)\n",
        "            for i, note in enumerate(aux_notes):\n",
        "                start = beats_resampled[i]\n",
        "                end = beats_resampled[i + 1] if i + 1 < len(beats_resampled) else len(ecg_resampled)\n",
        "                # print(start - end)\n",
        "                if note == \"AFIB\" or note == \"AFL\":\n",
        "                    af_mask[start:end] = 1  # AF\n",
        "                    # print(\"AFIB\",start -end)\n",
        "                    # print(af_mask[start:end])\n",
        "                else:\n",
        "                    af_mask[start:end] = 0  # Non-AF\n",
        "                    # print(\"Normal\",start - end)\n",
        "                    # print(af_mask[start:end])\n",
        "\n",
        "            # Segment into 60s windows\n",
        "            SEGMENT_STEP = SAMPLES_PER_SEGMENT // 2  # 50% overlap\n",
        "\n",
        "            for start in range(0, len(ecg_resampled) - SAMPLES_PER_SEGMENT, SEGMENT_STEP):\n",
        "                end = start + SAMPLES_PER_SEGMENT\n",
        "                segment = ecg_resampled[start:end]\n",
        "                label_segment = af_mask[start:end]\n",
        "\n",
        "                if len(segment) != SAMPLES_PER_SEGMENT:\n",
        "                    continue\n",
        "                # print(label_segment)\n",
        "                # print(label_segment.mean())\n",
        "                # print(label_segment.shape)\n",
        "                label = 1 if label_segment.mean() > 0.5 else 0  # Majority voting\n",
        "                # print(len(segment))\n",
        "                self.samples.append((segment.astype(np.float32), label))\n",
        "\n",
        "        labels = [label for _, label in self.samples]\n",
        "        label_counts = Counter(labels)\n",
        "\n",
        "        print(\"Label distribution:\")\n",
        "        print(f\"Normal (0): {label_counts.get(0, 0)}\")\n",
        "        print(f\"AFIB   (1): {label_counts.get(1, 0)}\")\n",
        "\n",
        "        print(f\"✅ Loaded {len(self.samples)} segments from AFDB\")\n",
        "\n",
        "    def __len__(self):\n",
        "        return len(self.samples)\n",
        "\n",
        "    def __getitem__(self, idx):\n",
        "        raw_ecg, label = self.samples[idx]\n",
        "        ecg = torch.tensor(raw_ecg)\n",
        "        ecg = (ecg - ecg.mean()) / (ecg.std() + 1e-8)\n",
        "\n",
        "        # ECG: Unfold to [80, 256]\n",
        "        if ecg.shape[0] < SAMPLES_PER_SEGMENT:\n",
        "            ecg = F.pad(ecg, (0, SAMPLES_PER_SEGMENT - ecg.shape[0]))\n",
        "        ecg_unfolded = ecg.unfold(0, WINDOW_SIZE, STEP_SIZE)\n",
        "        # print(len(raw_ecg))\n",
        "\n",
        "        # Spectrogram\n",
        "        spec = self.spectrogram_module(ecg)\n",
        "        spec = torch.log(spec.abs().clamp(min=1e-8))\n",
        "        spec = F.pad(spec, (0, SPECTROGRAM_LENGTH - spec.shape[-1]))\n",
        "        spec = spec.permute(1, 0).unsqueeze(0)\n",
        "\n",
        "        return ecg_unfolded.float(), spec.float(), torch.tensor(label)\n"
      ],
      "metadata": {
        "id": "JPQulVagk1Wc"
      },
      "execution_count": 8,
      "outputs": []
    },
    {
      "cell_type": "code",
      "source": [
        "import os\n",
        "import torch\n",
        "from torch.utils.data import DataLoader\n",
        "from sklearn.metrics import classification_report, confusion_matrix\n",
        "import seaborn as sns\n",
        "import matplotlib.pyplot as plt\n",
        "\n",
        "from ecg_classification.model import ECGCNN\n",
        "from ecg_classification.config import ECGCNN_CONFIG_L\n",
        "# from ecg_classification.data import AFDBDualInputDataset  # Make sure this import is correct\n",
        "\n",
        "# Detect GPU\n",
        "device = torch.device(\"cuda\" if torch.cuda.is_available() else \"cpu\")\n",
        "print(f\"✅ Using device: {device}\")\n",
        "\n",
        "# Load config and model\n",
        "config = dict(ECGCNN_CONFIG_L)\n",
        "config[\"classes\"] = 2  # Match what the model was trained on\n",
        "\n",
        "model = ECGCNN(config).to(device)\n",
        "model.load_state_dict(torch.load(\"/content/best_model.pt\", map_location=device))\n",
        "model.eval()\n",
        "\n",
        "# Load AFDB data\n",
        "AFDB_PATH = \"/content/ECG_Classification/data/mit-bih-atrial-fibrillation-database-1.0.0/files\"\n",
        "record_names = sorted([f.replace(\".dat\", \"\") for f in os.listdir(AFDB_PATH) if f.endswith(\".dat\")])\n",
        "\n",
        "# Prepare dataset and dataloader\n",
        "dataset = AFDBDualInputDataset(record_names, afdb_path=AFDB_PATH)\n",
        "loader = DataLoader(dataset, batch_size=24)\n",
        "\n",
        "# Inference loop\n",
        "y_true, y_pred = [], []\n",
        "\n",
        "with torch.no_grad():\n",
        "    for ecg_batch, spec_batch, label_batch in loader:\n",
        "        ecg_batch = ecg_batch.to(device)\n",
        "        spec_batch = spec_batch.to(device)\n",
        "        label_batch = label_batch.to(device)\n",
        "\n",
        "        outputs = model(ecg_batch, spec_batch)\n",
        "        probs = outputs.softmax(dim=1)\n",
        "        preds = (probs[:, 1] > 0.5).long()\n",
        "\n",
        "        y_pred += preds.cpu().tolist()\n",
        "        y_true += label_batch.cpu().tolist()\n",
        "\n",
        "# Report\n",
        "print(\"\\n📊 Classification Report on AFDB (aux_note labels):\")\n",
        "print(classification_report(y_true, y_pred, target_names=[\"Normal\", \"AF\"]))\n",
        "\n",
        "# Confusion matrix\n",
        "cm = confusion_matrix(y_true, y_pred)\n",
        "sns.heatmap(cm, annot=True, fmt=\"d\", xticklabels=[\"N\", \"AF\"], yticklabels=[\"N\", \"AF\"])\n",
        "plt.xlabel(\"Predicted\")\n",
        "plt.ylabel(\"True\")\n",
        "plt.title(\"Confusion Matrix (AFDB)\")\n",
        "plt.show()\n"
      ],
      "metadata": {
        "colab": {
          "base_uri": "https://localhost:8080/",
          "height": 767
        },
        "id": "krq3IzOWmAUB",
        "outputId": "da97be71-86c1-4a32-9a1d-3c7967b8a406"
      },
      "execution_count": 9,
      "outputs": [
        {
          "output_type": "stream",
          "name": "stdout",
          "text": [
            "✅ Using device: cuda\n",
            "Label distribution:\n",
            "Normal (0): 33403\n",
            "AFIB   (1): 22781\n",
            "✅ Loaded 56184 segments from AFDB\n",
            "\n",
            "📊 Classification Report on AFDB (aux_note labels):\n",
            "              precision    recall  f1-score   support\n",
            "\n",
            "      Normal       0.63      0.99      0.77     33403\n",
            "          AF       0.88      0.15      0.25     22781\n",
            "\n",
            "    accuracy                           0.65     56184\n",
            "   macro avg       0.75      0.57      0.51     56184\n",
            "weighted avg       0.73      0.65      0.56     56184\n",
            "\n"
          ]
        },
        {
          "output_type": "display_data",
          "data": {
            "text/plain": [
              "<Figure size 640x480 with 2 Axes>"
            ],
            "image/png": "[encoded data removed]"
          },
          "metadata": {}
        }
      ]
    },
    {
      "cell_type": "code",
      "source": [
        "import os\n",
        "import torch\n",
        "from torch.utils.data import DataLoader\n",
        "from sklearn.metrics import classification_report, confusion_matrix\n",
        "import seaborn as sns\n",
        "import matplotlib.pyplot as plt\n",
        "\n",
        "from ecg_classification.model import ECGCNN\n",
        "from ecg_classification.config import ECGCNN_CONFIG_L\n",
        "# from ecg_classification.data import AFDBDualInputDataset  # Make sure this import is correct\n",
        "\n",
        "# Detect GPU\n",
        "device = torch.device(\"cuda\" if torch.cuda.is_available() else \"cpu\")\n",
        "print(f\"✅ Using device: {device}\")\n",
        "\n",
        "# Load config and model\n",
        "ECGCNN_SE_CONFIG = dict(ECGCNN_CONFIG_L)\n",
        "ECGCNN_SE_CONFIG[\"use_se\"] = True\n",
        "ECGCNN_SE_CONFIG[\"classes\"] = 2  # Match what the model was trained on\n",
        "\n",
        "model = ECGCNN(config=ECGCNN_SE_CONFIG).to(device)\n",
        "model.load_state_dict(torch.load(\"/content/best_model (1).pt\", map_location=device))\n",
        "model.eval()\n",
        "\n",
        "# Load AFDB data\n",
        "AFDB_PATH = \"/content/ECG_Classification/data/mit-bih-atrial-fibrillation-database-1.0.0/files\"\n",
        "record_names = sorted([f.replace(\".dat\", \"\") for f in os.listdir(AFDB_PATH) if f.endswith(\".dat\")])\n",
        "\n",
        "# Prepare dataset and dataloader\n",
        "dataset = AFDBDualInputDataset(record_names, afdb_path=AFDB_PATH)\n",
        "loader = DataLoader(dataset, batch_size=24)\n",
        "\n",
        "# Inference loop\n",
        "y_true, y_pred = [], []\n",
        "\n",
        "with torch.no_grad():\n",
        "    for ecg_batch, spec_batch, label_batch in loader:\n",
        "        ecg_batch = ecg_batch.to(device)\n",
        "        spec_batch = spec_batch.to(device)\n",
        "        label_batch = label_batch.to(device)\n",
        "\n",
        "        outputs = model(ecg_batch, spec_batch)\n",
        "        probs = outputs.softmax(dim=1)\n",
        "        preds = (probs[:, 1] > 0.5).long()\n",
        "\n",
        "        y_pred += preds.cpu().tolist()\n",
        "        y_true += label_batch.cpu().tolist()\n",
        "\n",
        "# Report\n",
        "print(\"\\n📊 Classification Report on AFDB (aux_note labels):\")\n",
        "print(classification_report(y_true, y_pred, target_names=[\"Normal\", \"AF\"]))\n",
        "\n",
        "# Confusion matrix\n",
        "cm = confusion_matrix(y_true, y_pred)\n",
        "sns.heatmap(cm, annot=True, fmt=\"d\", xticklabels=[\"N\", \"AF\"], yticklabels=[\"N\", \"AF\"])\n",
        "plt.xlabel(\"Predicted\")\n",
        "plt.ylabel(\"True\")\n",
        "plt.title(\"Confusion Matrix (AFDB)\")\n",
        "plt.show()"
      ],
      "metadata": {
        "colab": {
          "base_uri": "https://localhost:8080/",
          "height": 767
        },
        "id": "eUWwv6UA-YDP",
        "outputId": "09b9b312-9539-4c57-ce56-5376ca0dec57"
      },
      "execution_count": 10,
      "outputs": [
        {
          "output_type": "stream",
          "name": "stdout",
          "text": [
            "✅ Using device: cuda\n",
            "Label distribution:\n",
            "Normal (0): 33403\n",
            "AFIB   (1): 22781\n",
            "✅ Loaded 56184 segments from AFDB\n",
            "\n",
            "📊 Classification Report on AFDB (aux_note labels):\n",
            "              precision    recall  f1-score   support\n",
            "\n",
            "      Normal       0.70      0.97      0.81     33403\n",
            "          AF       0.90      0.40      0.55     22781\n",
            "\n",
            "    accuracy                           0.74     56184\n",
            "   macro avg       0.80      0.68      0.68     56184\n",
            "weighted avg       0.78      0.74      0.71     56184\n",
            "\n"
          ]
        },
        {
          "output_type": "display_data",
          "data": {
            "text/plain": [
              "<Figure size 640x480 with 2 Axes>"
            ],
            "image/png": "[encoded data removed]"
          },
          "metadata": {}
        }
      ]
    }
  ]
}